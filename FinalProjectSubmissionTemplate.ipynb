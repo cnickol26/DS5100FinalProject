{
 "cells": [
  {
   "cell_type": "markdown",
   "id": "4abe95c4-215e-4d3d-99ff-a9e9b624b9bf",
   "metadata": {},
   "source": [
    "# Metadata\n",
    "\n",
    "* Title: **Final Project Report**\n",
    "* Class: DS 5100\n",
    "* Date:7/13/21\n",
    "* Student Name: Connor Nickol\n",
    "* Student Net ID: can2hr\n",
    "* This URL: <a URL to the notebook source of this document>\n",
    "* GitHub Repo URL: https://github.com/cnickol26/DS5100FinalProject"
   ]
  },
  {
   "cell_type": "code",
   "execution_count": null,
   "id": "2b05d0f1-4774-4c8b-a132-9b1cd4c4651f",
   "metadata": {},
   "outputs": [],
   "source": []
  },
  {
   "cell_type": "code",
   "execution_count": null,
   "id": "1b06e589-a362-4674-b591-9fee2a77832e",
   "metadata": {},
   "outputs": [],
   "source": []
  },
  {
   "cell_type": "code",
   "execution_count": null,
   "id": "46a5d96d-187d-4f64-91ea-247daf776337",
   "metadata": {},
   "outputs": [],
   "source": []
  },
  {
   "cell_type": "code",
   "execution_count": null,
   "id": "315abbe0-7dbf-4f01-919c-06db9605bffe",
   "metadata": {},
   "outputs": [],
   "source": []
  },
  {
   "cell_type": "code",
   "execution_count": null,
   "id": "3f361652-bc54-4565-b7b3-7a93029402ad",
   "metadata": {},
   "outputs": [],
   "source": []
  },
  {
   "cell_type": "code",
   "execution_count": null,
   "id": "16782503-e8cf-46d6-a0d5-b038d5b55e59",
   "metadata": {
    "tags": []
   },
   "outputs": [],
   "source": []
  },
  {
   "cell_type": "markdown",
   "id": "37841d5f-0751-465b-a1c7-8dc25547d2a3",
   "metadata": {},
   "source": [
    "# Three Scenarios "
   ]
  },
  {
   "cell_type": "code",
   "execution_count": 1,
   "id": "1cd90e30-0b58-44df-a830-9dd49745f2f8",
   "metadata": {},
   "outputs": [],
   "source": [
    "import numpy as np\n",
    "import pandas as pd\n",
    "from montecarlo import Die\n",
    "from montecarlo import Game\n",
    "from montecarlo import Analyzer\n",
    "import matplotlib.pyplot as plt"
   ]
  },
  {
   "cell_type": "markdown",
   "id": "dfecea0a-48d8-4e45-b21d-b796458cc134",
   "metadata": {},
   "source": [
    "## Scenario 1: A 2-headed coin"
   ]
  },
  {
   "cell_type": "markdown",
   "id": "55d180cc-2651-45ae-9e9a-7eb84b9235ae",
   "metadata": {},
   "source": [
    "Initializing the coin with 2 faces, heads and tails. Default weight is 1 for each side"
   ]
  },
  {
   "cell_type": "code",
   "execution_count": 2,
   "id": "a670c75d-4a83-4947-8efa-0f1b8ceba312",
   "metadata": {},
   "outputs": [
    {
     "data": {
      "text/html": [
       "<div>\n",
       "<style scoped>\n",
       "    .dataframe tbody tr th:only-of-type {\n",
       "        vertical-align: middle;\n",
       "    }\n",
       "\n",
       "    .dataframe tbody tr th {\n",
       "        vertical-align: top;\n",
       "    }\n",
       "\n",
       "    .dataframe thead th {\n",
       "        text-align: right;\n",
       "    }\n",
       "</style>\n",
       "<table border=\"1\" class=\"dataframe\">\n",
       "  <thead>\n",
       "    <tr style=\"text-align: right;\">\n",
       "      <th></th>\n",
       "      <th>side</th>\n",
       "      <th>weights</th>\n",
       "    </tr>\n",
       "  </thead>\n",
       "  <tbody>\n",
       "    <tr>\n",
       "      <th>0</th>\n",
       "      <td>H</td>\n",
       "      <td>1.0</td>\n",
       "    </tr>\n",
       "    <tr>\n",
       "      <th>1</th>\n",
       "      <td>T</td>\n",
       "      <td>1.0</td>\n",
       "    </tr>\n",
       "  </tbody>\n",
       "</table>\n",
       "</div>"
      ],
      "text/plain": [
       "  side  weights\n",
       "0    H      1.0\n",
       "1    T      1.0"
      ]
     },
     "execution_count": 2,
     "metadata": {},
     "output_type": "execute_result"
    }
   ],
   "source": [
    "die = Die([\"H\",\"T\"])\n",
    "die.show_results()"
   ]
  },
  {
   "cell_type": "markdown",
   "id": "6acb05bd-ed7f-4fed-821e-110d0a081802",
   "metadata": {},
   "source": [
    "Initializing 3 coins. All 3 are fair die."
   ]
  },
  {
   "cell_type": "code",
   "execution_count": 3,
   "id": "931ee1ee-3c10-411f-9491-46077d66af4a",
   "metadata": {},
   "outputs": [],
   "source": [
    "games = Game([[1,1],[1,1],[1,1]])"
   ]
  },
  {
   "cell_type": "markdown",
   "id": "ea6a8ecf-1325-4767-aa96-e040b22744c4",
   "metadata": {},
   "source": [
    "Rolling the die 1000 times"
   ]
  },
  {
   "cell_type": "code",
   "execution_count": 4,
   "id": "84e61f9b-4495-42a4-88ce-411aacf15a20",
   "metadata": {},
   "outputs": [],
   "source": [
    "games.play(1000,die)"
   ]
  },
  {
   "cell_type": "markdown",
   "id": "93263395-924e-452a-9e54-c5dbe347bc3c",
   "metadata": {},
   "source": [
    "Show the results of the rolls"
   ]
  },
  {
   "cell_type": "code",
   "execution_count": 5,
   "id": "c2bbce59-dfdc-408b-a252-18a1a8cece18",
   "metadata": {},
   "outputs": [
    {
     "data": {
      "text/html": [
       "<div>\n",
       "<style scoped>\n",
       "    .dataframe tbody tr th:only-of-type {\n",
       "        vertical-align: middle;\n",
       "    }\n",
       "\n",
       "    .dataframe tbody tr th {\n",
       "        vertical-align: top;\n",
       "    }\n",
       "\n",
       "    .dataframe thead th {\n",
       "        text-align: right;\n",
       "    }\n",
       "</style>\n",
       "<table border=\"1\" class=\"dataframe\">\n",
       "  <thead>\n",
       "    <tr style=\"text-align: right;\">\n",
       "      <th></th>\n",
       "      <th>1</th>\n",
       "      <th>2</th>\n",
       "      <th>3</th>\n",
       "    </tr>\n",
       "    <tr>\n",
       "      <th>roll_num</th>\n",
       "      <th></th>\n",
       "      <th></th>\n",
       "      <th></th>\n",
       "    </tr>\n",
       "  </thead>\n",
       "  <tbody>\n",
       "    <tr>\n",
       "      <th>0</th>\n",
       "      <td>T</td>\n",
       "      <td>T</td>\n",
       "      <td>H</td>\n",
       "    </tr>\n",
       "    <tr>\n",
       "      <th>1</th>\n",
       "      <td>H</td>\n",
       "      <td>T</td>\n",
       "      <td>T</td>\n",
       "    </tr>\n",
       "    <tr>\n",
       "      <th>2</th>\n",
       "      <td>T</td>\n",
       "      <td>T</td>\n",
       "      <td>H</td>\n",
       "    </tr>\n",
       "    <tr>\n",
       "      <th>3</th>\n",
       "      <td>T</td>\n",
       "      <td>T</td>\n",
       "      <td>T</td>\n",
       "    </tr>\n",
       "    <tr>\n",
       "      <th>4</th>\n",
       "      <td>H</td>\n",
       "      <td>H</td>\n",
       "      <td>H</td>\n",
       "    </tr>\n",
       "    <tr>\n",
       "      <th>...</th>\n",
       "      <td>...</td>\n",
       "      <td>...</td>\n",
       "      <td>...</td>\n",
       "    </tr>\n",
       "    <tr>\n",
       "      <th>995</th>\n",
       "      <td>T</td>\n",
       "      <td>H</td>\n",
       "      <td>T</td>\n",
       "    </tr>\n",
       "    <tr>\n",
       "      <th>996</th>\n",
       "      <td>T</td>\n",
       "      <td>H</td>\n",
       "      <td>H</td>\n",
       "    </tr>\n",
       "    <tr>\n",
       "      <th>997</th>\n",
       "      <td>T</td>\n",
       "      <td>H</td>\n",
       "      <td>T</td>\n",
       "    </tr>\n",
       "    <tr>\n",
       "      <th>998</th>\n",
       "      <td>H</td>\n",
       "      <td>T</td>\n",
       "      <td>T</td>\n",
       "    </tr>\n",
       "    <tr>\n",
       "      <th>999</th>\n",
       "      <td>T</td>\n",
       "      <td>T</td>\n",
       "      <td>T</td>\n",
       "    </tr>\n",
       "  </tbody>\n",
       "</table>\n",
       "<p>1000 rows × 3 columns</p>\n",
       "</div>"
      ],
      "text/plain": [
       "          1  2  3\n",
       "roll_num         \n",
       "0         T  T  H\n",
       "1         H  T  T\n",
       "2         T  T  H\n",
       "3         T  T  T\n",
       "4         H  H  H\n",
       "...      .. .. ..\n",
       "995       T  H  T\n",
       "996       T  H  H\n",
       "997       T  H  T\n",
       "998       H  T  T\n",
       "999       T  T  T\n",
       "\n",
       "[1000 rows x 3 columns]"
      ]
     },
     "execution_count": 5,
     "metadata": {},
     "output_type": "execute_result"
    }
   ],
   "source": [
    "output = games.show()\n",
    "output"
   ]
  },
  {
   "cell_type": "markdown",
   "id": "2db89d2c-c017-4587-a746-ab48823de9a0",
   "metadata": {},
   "source": [
    "Initialize the analyzer class"
   ]
  },
  {
   "cell_type": "code",
   "execution_count": 6,
   "id": "a35c0d57-f7ba-4b8a-9212-9f4f1f257363",
   "metadata": {},
   "outputs": [],
   "source": [
    "analyzer = Analyzer(output,die)"
   ]
  },
  {
   "cell_type": "markdown",
   "id": "fe495b58-d26f-49b1-8d13-2624ffce792d",
   "metadata": {},
   "source": [
    "Run the jackpot method which returns all the times where the 3 dies rolled the same face"
   ]
  },
  {
   "cell_type": "code",
   "execution_count": 7,
   "id": "2e2dd5ee-6b17-4a33-a489-ab022025a368",
   "metadata": {},
   "outputs": [
    {
     "name": "stdout",
     "output_type": "stream",
     "text": [
      "262\n"
     ]
    },
    {
     "data": {
      "text/html": [
       "<div>\n",
       "<style scoped>\n",
       "    .dataframe tbody tr th:only-of-type {\n",
       "        vertical-align: middle;\n",
       "    }\n",
       "\n",
       "    .dataframe tbody tr th {\n",
       "        vertical-align: top;\n",
       "    }\n",
       "\n",
       "    .dataframe thead th {\n",
       "        text-align: right;\n",
       "    }\n",
       "</style>\n",
       "<table border=\"1\" class=\"dataframe\">\n",
       "  <thead>\n",
       "    <tr style=\"text-align: right;\">\n",
       "      <th></th>\n",
       "      <th>1</th>\n",
       "      <th>2</th>\n",
       "      <th>3</th>\n",
       "    </tr>\n",
       "  </thead>\n",
       "  <tbody>\n",
       "    <tr>\n",
       "      <th>3</th>\n",
       "      <td>T</td>\n",
       "      <td>T</td>\n",
       "      <td>T</td>\n",
       "    </tr>\n",
       "    <tr>\n",
       "      <th>4</th>\n",
       "      <td>H</td>\n",
       "      <td>H</td>\n",
       "      <td>H</td>\n",
       "    </tr>\n",
       "    <tr>\n",
       "      <th>9</th>\n",
       "      <td>T</td>\n",
       "      <td>T</td>\n",
       "      <td>T</td>\n",
       "    </tr>\n",
       "    <tr>\n",
       "      <th>20</th>\n",
       "      <td>T</td>\n",
       "      <td>T</td>\n",
       "      <td>T</td>\n",
       "    </tr>\n",
       "    <tr>\n",
       "      <th>21</th>\n",
       "      <td>T</td>\n",
       "      <td>T</td>\n",
       "      <td>T</td>\n",
       "    </tr>\n",
       "    <tr>\n",
       "      <th>...</th>\n",
       "      <td>...</td>\n",
       "      <td>...</td>\n",
       "      <td>...</td>\n",
       "    </tr>\n",
       "    <tr>\n",
       "      <th>988</th>\n",
       "      <td>H</td>\n",
       "      <td>H</td>\n",
       "      <td>H</td>\n",
       "    </tr>\n",
       "    <tr>\n",
       "      <th>990</th>\n",
       "      <td>T</td>\n",
       "      <td>T</td>\n",
       "      <td>T</td>\n",
       "    </tr>\n",
       "    <tr>\n",
       "      <th>992</th>\n",
       "      <td>T</td>\n",
       "      <td>T</td>\n",
       "      <td>T</td>\n",
       "    </tr>\n",
       "    <tr>\n",
       "      <th>993</th>\n",
       "      <td>T</td>\n",
       "      <td>T</td>\n",
       "      <td>T</td>\n",
       "    </tr>\n",
       "    <tr>\n",
       "      <th>999</th>\n",
       "      <td>T</td>\n",
       "      <td>T</td>\n",
       "      <td>T</td>\n",
       "    </tr>\n",
       "  </tbody>\n",
       "</table>\n",
       "<p>262 rows × 3 columns</p>\n",
       "</div>"
      ],
      "text/plain": [
       "     1  2  3\n",
       "3    T  T  T\n",
       "4    H  H  H\n",
       "9    T  T  T\n",
       "20   T  T  T\n",
       "21   T  T  T\n",
       "..  .. .. ..\n",
       "988  H  H  H\n",
       "990  T  T  T\n",
       "992  T  T  T\n",
       "993  T  T  T\n",
       "999  T  T  T\n",
       "\n",
       "[262 rows x 3 columns]"
      ]
     },
     "execution_count": 7,
     "metadata": {},
     "output_type": "execute_result"
    }
   ],
   "source": [
    "analyzer.jackpot()"
   ]
  },
  {
   "cell_type": "markdown",
   "id": "d2131354-4603-49fc-b51d-9e36f8ed03a4",
   "metadata": {},
   "source": [
    "Now rerunning with 1 fair dice and 2 unfair dice. Head is weighted 5 times more than tails for the unfair die."
   ]
  },
  {
   "cell_type": "code",
   "execution_count": 8,
   "id": "cf69441a-81fc-4d3b-a954-a05d744d5bce",
   "metadata": {},
   "outputs": [],
   "source": [
    "game2 = Game([[1,1],[5,1],[5,1]])"
   ]
  },
  {
   "cell_type": "markdown",
   "id": "be3e680c-d46b-4ff2-8f09-d45d066b9642",
   "metadata": {},
   "source": [
    "Rolling the die 1000 times"
   ]
  },
  {
   "cell_type": "code",
   "execution_count": 9,
   "id": "4e0309e5-654c-4451-9841-e1bfe7632355",
   "metadata": {},
   "outputs": [],
   "source": [
    "game2.play(1000,die)"
   ]
  },
  {
   "cell_type": "markdown",
   "id": "0be2ef36-5e4e-45a2-84f5-736fe4872ec0",
   "metadata": {},
   "source": [
    "Showing the results of the rolls"
   ]
  },
  {
   "cell_type": "code",
   "execution_count": 10,
   "id": "c1fc0478-4ebc-432f-af41-1a3c131e6af0",
   "metadata": {},
   "outputs": [
    {
     "data": {
      "text/html": [
       "<div>\n",
       "<style scoped>\n",
       "    .dataframe tbody tr th:only-of-type {\n",
       "        vertical-align: middle;\n",
       "    }\n",
       "\n",
       "    .dataframe tbody tr th {\n",
       "        vertical-align: top;\n",
       "    }\n",
       "\n",
       "    .dataframe thead th {\n",
       "        text-align: right;\n",
       "    }\n",
       "</style>\n",
       "<table border=\"1\" class=\"dataframe\">\n",
       "  <thead>\n",
       "    <tr style=\"text-align: right;\">\n",
       "      <th></th>\n",
       "      <th>1</th>\n",
       "      <th>2</th>\n",
       "      <th>3</th>\n",
       "    </tr>\n",
       "    <tr>\n",
       "      <th>roll_num</th>\n",
       "      <th></th>\n",
       "      <th></th>\n",
       "      <th></th>\n",
       "    </tr>\n",
       "  </thead>\n",
       "  <tbody>\n",
       "    <tr>\n",
       "      <th>0</th>\n",
       "      <td>T</td>\n",
       "      <td>H</td>\n",
       "      <td>H</td>\n",
       "    </tr>\n",
       "    <tr>\n",
       "      <th>1</th>\n",
       "      <td>T</td>\n",
       "      <td>H</td>\n",
       "      <td>H</td>\n",
       "    </tr>\n",
       "    <tr>\n",
       "      <th>2</th>\n",
       "      <td>H</td>\n",
       "      <td>H</td>\n",
       "      <td>H</td>\n",
       "    </tr>\n",
       "    <tr>\n",
       "      <th>3</th>\n",
       "      <td>T</td>\n",
       "      <td>H</td>\n",
       "      <td>H</td>\n",
       "    </tr>\n",
       "    <tr>\n",
       "      <th>4</th>\n",
       "      <td>T</td>\n",
       "      <td>H</td>\n",
       "      <td>H</td>\n",
       "    </tr>\n",
       "    <tr>\n",
       "      <th>...</th>\n",
       "      <td>...</td>\n",
       "      <td>...</td>\n",
       "      <td>...</td>\n",
       "    </tr>\n",
       "    <tr>\n",
       "      <th>995</th>\n",
       "      <td>T</td>\n",
       "      <td>H</td>\n",
       "      <td>H</td>\n",
       "    </tr>\n",
       "    <tr>\n",
       "      <th>996</th>\n",
       "      <td>T</td>\n",
       "      <td>H</td>\n",
       "      <td>H</td>\n",
       "    </tr>\n",
       "    <tr>\n",
       "      <th>997</th>\n",
       "      <td>T</td>\n",
       "      <td>T</td>\n",
       "      <td>H</td>\n",
       "    </tr>\n",
       "    <tr>\n",
       "      <th>998</th>\n",
       "      <td>H</td>\n",
       "      <td>H</td>\n",
       "      <td>H</td>\n",
       "    </tr>\n",
       "    <tr>\n",
       "      <th>999</th>\n",
       "      <td>H</td>\n",
       "      <td>T</td>\n",
       "      <td>H</td>\n",
       "    </tr>\n",
       "  </tbody>\n",
       "</table>\n",
       "<p>1000 rows × 3 columns</p>\n",
       "</div>"
      ],
      "text/plain": [
       "          1  2  3\n",
       "roll_num         \n",
       "0         T  H  H\n",
       "1         T  H  H\n",
       "2         H  H  H\n",
       "3         T  H  H\n",
       "4         T  H  H\n",
       "...      .. .. ..\n",
       "995       T  H  H\n",
       "996       T  H  H\n",
       "997       T  T  H\n",
       "998       H  H  H\n",
       "999       H  T  H\n",
       "\n",
       "[1000 rows x 3 columns]"
      ]
     },
     "execution_count": 10,
     "metadata": {},
     "output_type": "execute_result"
    }
   ],
   "source": [
    "output2 = game2.show()\n",
    "output2"
   ]
  },
  {
   "cell_type": "markdown",
   "id": "b4da4496-f2b4-4c07-abaf-2ed3c105ebd4",
   "metadata": {},
   "source": [
    "Intialize the analyzer class"
   ]
  },
  {
   "cell_type": "code",
   "execution_count": 11,
   "id": "b2eb3737-1239-468b-a0cd-2c67658aecbc",
   "metadata": {},
   "outputs": [],
   "source": [
    "analyzer = Analyzer(output2,die)"
   ]
  },
  {
   "cell_type": "markdown",
   "id": "ccdb42dc-8430-487b-990c-d2feb782d671",
   "metadata": {},
   "source": [
    "Running the jackpot method to see the number of jackpots"
   ]
  },
  {
   "cell_type": "code",
   "execution_count": 12,
   "id": "6f606c67-3ea2-4e78-bac0-326c8af0f3c9",
   "metadata": {},
   "outputs": [
    {
     "name": "stdout",
     "output_type": "stream",
     "text": [
      "332\n"
     ]
    },
    {
     "data": {
      "text/html": [
       "<div>\n",
       "<style scoped>\n",
       "    .dataframe tbody tr th:only-of-type {\n",
       "        vertical-align: middle;\n",
       "    }\n",
       "\n",
       "    .dataframe tbody tr th {\n",
       "        vertical-align: top;\n",
       "    }\n",
       "\n",
       "    .dataframe thead th {\n",
       "        text-align: right;\n",
       "    }\n",
       "</style>\n",
       "<table border=\"1\" class=\"dataframe\">\n",
       "  <thead>\n",
       "    <tr style=\"text-align: right;\">\n",
       "      <th></th>\n",
       "      <th>1</th>\n",
       "      <th>2</th>\n",
       "      <th>3</th>\n",
       "    </tr>\n",
       "  </thead>\n",
       "  <tbody>\n",
       "    <tr>\n",
       "      <th>2</th>\n",
       "      <td>H</td>\n",
       "      <td>H</td>\n",
       "      <td>H</td>\n",
       "    </tr>\n",
       "    <tr>\n",
       "      <th>10</th>\n",
       "      <td>H</td>\n",
       "      <td>H</td>\n",
       "      <td>H</td>\n",
       "    </tr>\n",
       "    <tr>\n",
       "      <th>11</th>\n",
       "      <td>H</td>\n",
       "      <td>H</td>\n",
       "      <td>H</td>\n",
       "    </tr>\n",
       "    <tr>\n",
       "      <th>13</th>\n",
       "      <td>H</td>\n",
       "      <td>H</td>\n",
       "      <td>H</td>\n",
       "    </tr>\n",
       "    <tr>\n",
       "      <th>15</th>\n",
       "      <td>H</td>\n",
       "      <td>H</td>\n",
       "      <td>H</td>\n",
       "    </tr>\n",
       "    <tr>\n",
       "      <th>...</th>\n",
       "      <td>...</td>\n",
       "      <td>...</td>\n",
       "      <td>...</td>\n",
       "    </tr>\n",
       "    <tr>\n",
       "      <th>983</th>\n",
       "      <td>H</td>\n",
       "      <td>H</td>\n",
       "      <td>H</td>\n",
       "    </tr>\n",
       "    <tr>\n",
       "      <th>987</th>\n",
       "      <td>H</td>\n",
       "      <td>H</td>\n",
       "      <td>H</td>\n",
       "    </tr>\n",
       "    <tr>\n",
       "      <th>988</th>\n",
       "      <td>H</td>\n",
       "      <td>H</td>\n",
       "      <td>H</td>\n",
       "    </tr>\n",
       "    <tr>\n",
       "      <th>994</th>\n",
       "      <td>H</td>\n",
       "      <td>H</td>\n",
       "      <td>H</td>\n",
       "    </tr>\n",
       "    <tr>\n",
       "      <th>998</th>\n",
       "      <td>H</td>\n",
       "      <td>H</td>\n",
       "      <td>H</td>\n",
       "    </tr>\n",
       "  </tbody>\n",
       "</table>\n",
       "<p>332 rows × 3 columns</p>\n",
       "</div>"
      ],
      "text/plain": [
       "     1  2  3\n",
       "2    H  H  H\n",
       "10   H  H  H\n",
       "11   H  H  H\n",
       "13   H  H  H\n",
       "15   H  H  H\n",
       "..  .. .. ..\n",
       "983  H  H  H\n",
       "987  H  H  H\n",
       "988  H  H  H\n",
       "994  H  H  H\n",
       "998  H  H  H\n",
       "\n",
       "[332 rows x 3 columns]"
      ]
     },
     "execution_count": 12,
     "metadata": {},
     "output_type": "execute_result"
    }
   ],
   "source": [
    "analyzer.jackpot()"
   ]
  },
  {
   "cell_type": "markdown",
   "id": "f4a3fdea-907c-4f5b-8abf-5b5caf67d250",
   "metadata": {},
   "source": [
    "Creating a dataframe for graphing"
   ]
  },
  {
   "cell_type": "code",
   "execution_count": 13,
   "id": "c356d690-a903-4898-adad-e8a19b39c9ff",
   "metadata": {},
   "outputs": [
    {
     "data": {
      "text/html": [
       "<div>\n",
       "<style scoped>\n",
       "    .dataframe tbody tr th:only-of-type {\n",
       "        vertical-align: middle;\n",
       "    }\n",
       "\n",
       "    .dataframe tbody tr th {\n",
       "        vertical-align: top;\n",
       "    }\n",
       "\n",
       "    .dataframe thead th {\n",
       "        text-align: right;\n",
       "    }\n",
       "</style>\n",
       "<table border=\"1\" class=\"dataframe\">\n",
       "  <thead>\n",
       "    <tr style=\"text-align: right;\">\n",
       "      <th></th>\n",
       "      <th>Dice</th>\n",
       "      <th>Result</th>\n",
       "    </tr>\n",
       "  </thead>\n",
       "  <tbody>\n",
       "    <tr>\n",
       "      <th>0</th>\n",
       "      <td>Fair</td>\n",
       "      <td>0.282</td>\n",
       "    </tr>\n",
       "    <tr>\n",
       "      <th>1</th>\n",
       "      <td>Unfair</td>\n",
       "      <td>0.352</td>\n",
       "    </tr>\n",
       "  </tbody>\n",
       "</table>\n",
       "</div>"
      ],
      "text/plain": [
       "     Dice  Result\n",
       "0    Fair   0.282\n",
       "1  Unfair   0.352"
      ]
     },
     "execution_count": 13,
     "metadata": {},
     "output_type": "execute_result"
    }
   ],
   "source": [
    "first = 282/1000\n",
    "second = 352/1000\n",
    "df = pd.DataFrame({\"Dice\":[\"Fair\",\"Unfair\"],\"Result\":[first,second]})\n",
    "df"
   ]
  },
  {
   "cell_type": "markdown",
   "id": "11cb72e4-3d44-478e-ac75-63849f1847c3",
   "metadata": {},
   "source": [
    "Plotting the percetages as a bar plot"
   ]
  },
  {
   "cell_type": "code",
   "execution_count": 14,
   "id": "aee031cf-e5da-4bf8-bfbc-8e64ef4d9e17",
   "metadata": {},
   "outputs": [],
   "source": [
    "Dice = [\"Fair\",\"Unfair\"]\n",
    "Result = [first,second]"
   ]
  },
  {
   "cell_type": "code",
   "execution_count": 15,
   "id": "234b09e4-12cc-4042-8fb2-40e34d3919ef",
   "metadata": {},
   "outputs": [
    {
     "data": {
      "image/png": "[encoded data removed]",
      "text/plain": [
       "<Figure size 432x288 with 1 Axes>"
      ]
     },
     "metadata": {
      "needs_background": "light"
     },
     "output_type": "display_data"
    }
   ],
   "source": [
    "plt.bar(Dice,Result);\n",
    "plt.title(\"Percentages of Jackpots Rolled\");\n",
    "plt.ylabel(\"Percentage\");"
   ]
  },
  {
   "cell_type": "markdown",
   "id": "e8a81b42-3507-4aa9-835f-c092b174bf50",
   "metadata": {},
   "source": [
    "# Scenario 2: A 6-sided die"
   ]
  },
  {
   "cell_type": "markdown",
   "id": "f9df2fcd-5e77-4b99-ae37-954f6a8ff557",
   "metadata": {},
   "source": [
    "Initializing the die"
   ]
  },
  {
   "cell_type": "code",
   "execution_count": 16,
   "id": "bed326ac-3057-43c7-a0ff-e8fe8f3be4ad",
   "metadata": {},
   "outputs": [
    {
     "data": {
      "text/html": [
       "<div>\n",
       "<style scoped>\n",
       "    .dataframe tbody tr th:only-of-type {\n",
       "        vertical-align: middle;\n",
       "    }\n",
       "\n",
       "    .dataframe tbody tr th {\n",
       "        vertical-align: top;\n",
       "    }\n",
       "\n",
       "    .dataframe thead th {\n",
       "        text-align: right;\n",
       "    }\n",
       "</style>\n",
       "<table border=\"1\" class=\"dataframe\">\n",
       "  <thead>\n",
       "    <tr style=\"text-align: right;\">\n",
       "      <th></th>\n",
       "      <th>side</th>\n",
       "      <th>weights</th>\n",
       "    </tr>\n",
       "  </thead>\n",
       "  <tbody>\n",
       "    <tr>\n",
       "      <th>0</th>\n",
       "      <td>1</td>\n",
       "      <td>1.0</td>\n",
       "    </tr>\n",
       "    <tr>\n",
       "      <th>1</th>\n",
       "      <td>2</td>\n",
       "      <td>1.0</td>\n",
       "    </tr>\n",
       "    <tr>\n",
       "      <th>2</th>\n",
       "      <td>3</td>\n",
       "      <td>1.0</td>\n",
       "    </tr>\n",
       "    <tr>\n",
       "      <th>3</th>\n",
       "      <td>4</td>\n",
       "      <td>1.0</td>\n",
       "    </tr>\n",
       "    <tr>\n",
       "      <th>4</th>\n",
       "      <td>5</td>\n",
       "      <td>1.0</td>\n",
       "    </tr>\n",
       "    <tr>\n",
       "      <th>5</th>\n",
       "      <td>6</td>\n",
       "      <td>1.0</td>\n",
       "    </tr>\n",
       "  </tbody>\n",
       "</table>\n",
       "</div>"
      ],
      "text/plain": [
       "   side  weights\n",
       "0     1      1.0\n",
       "1     2      1.0\n",
       "2     3      1.0\n",
       "3     4      1.0\n",
       "4     5      1.0\n",
       "5     6      1.0"
      ]
     },
     "execution_count": 16,
     "metadata": {},
     "output_type": "execute_result"
    }
   ],
   "source": [
    "die = Die([1,2,3,4,5,6])\n",
    "die.show_results()"
   ]
  },
  {
   "cell_type": "markdown",
   "id": "0c13d150-d9ca-4cf1-a5cf-0d4384c46be8",
   "metadata": {},
   "source": [
    "100000 rolls with all fair dice"
   ]
  },
  {
   "cell_type": "code",
   "execution_count": 17,
   "id": "0c559c3f-935c-4584-b080-043e58015eb6",
   "metadata": {},
   "outputs": [],
   "source": [
    "games = Game([[1,1,1,1,1,1],[1,1,1,1,1,1],[1,1,1,1,1,1],[1,1,1,1,1,1],[1,1,1,1,1,1]])"
   ]
  },
  {
   "cell_type": "code",
   "execution_count": 18,
   "id": "68b31273-e57d-4870-a246-0f192028fdd3",
   "metadata": {},
   "outputs": [],
   "source": [
    "games.play(10000,die)"
   ]
  },
  {
   "cell_type": "markdown",
   "id": "b6618207-8ba9-4a82-9857-b65d2761d1a6",
   "metadata": {},
   "source": [
    "Showing the results"
   ]
  },
  {
   "cell_type": "code",
   "execution_count": 19,
   "id": "3f6fd7ef-00e8-44a9-998e-92040f9637bd",
   "metadata": {},
   "outputs": [
    {
     "data": {
      "text/html": [
       "<div>\n",
       "<style scoped>\n",
       "    .dataframe tbody tr th:only-of-type {\n",
       "        vertical-align: middle;\n",
       "    }\n",
       "\n",
       "    .dataframe tbody tr th {\n",
       "        vertical-align: top;\n",
       "    }\n",
       "\n",
       "    .dataframe thead th {\n",
       "        text-align: right;\n",
       "    }\n",
       "</style>\n",
       "<table border=\"1\" class=\"dataframe\">\n",
       "  <thead>\n",
       "    <tr style=\"text-align: right;\">\n",
       "      <th></th>\n",
       "      <th>1</th>\n",
       "      <th>2</th>\n",
       "      <th>3</th>\n",
       "      <th>4</th>\n",
       "      <th>5</th>\n",
       "    </tr>\n",
       "    <tr>\n",
       "      <th>roll_num</th>\n",
       "      <th></th>\n",
       "      <th></th>\n",
       "      <th></th>\n",
       "      <th></th>\n",
       "      <th></th>\n",
       "    </tr>\n",
       "  </thead>\n",
       "  <tbody>\n",
       "    <tr>\n",
       "      <th>0</th>\n",
       "      <td>4</td>\n",
       "      <td>4</td>\n",
       "      <td>1</td>\n",
       "      <td>4</td>\n",
       "      <td>4</td>\n",
       "    </tr>\n",
       "    <tr>\n",
       "      <th>1</th>\n",
       "      <td>3</td>\n",
       "      <td>5</td>\n",
       "      <td>1</td>\n",
       "      <td>4</td>\n",
       "      <td>1</td>\n",
       "    </tr>\n",
       "    <tr>\n",
       "      <th>2</th>\n",
       "      <td>1</td>\n",
       "      <td>1</td>\n",
       "      <td>1</td>\n",
       "      <td>6</td>\n",
       "      <td>4</td>\n",
       "    </tr>\n",
       "    <tr>\n",
       "      <th>3</th>\n",
       "      <td>1</td>\n",
       "      <td>4</td>\n",
       "      <td>2</td>\n",
       "      <td>5</td>\n",
       "      <td>3</td>\n",
       "    </tr>\n",
       "    <tr>\n",
       "      <th>4</th>\n",
       "      <td>5</td>\n",
       "      <td>5</td>\n",
       "      <td>2</td>\n",
       "      <td>3</td>\n",
       "      <td>6</td>\n",
       "    </tr>\n",
       "    <tr>\n",
       "      <th>...</th>\n",
       "      <td>...</td>\n",
       "      <td>...</td>\n",
       "      <td>...</td>\n",
       "      <td>...</td>\n",
       "      <td>...</td>\n",
       "    </tr>\n",
       "    <tr>\n",
       "      <th>9995</th>\n",
       "      <td>2</td>\n",
       "      <td>4</td>\n",
       "      <td>6</td>\n",
       "      <td>3</td>\n",
       "      <td>5</td>\n",
       "    </tr>\n",
       "    <tr>\n",
       "      <th>9996</th>\n",
       "      <td>1</td>\n",
       "      <td>5</td>\n",
       "      <td>3</td>\n",
       "      <td>5</td>\n",
       "      <td>4</td>\n",
       "    </tr>\n",
       "    <tr>\n",
       "      <th>9997</th>\n",
       "      <td>4</td>\n",
       "      <td>4</td>\n",
       "      <td>6</td>\n",
       "      <td>4</td>\n",
       "      <td>2</td>\n",
       "    </tr>\n",
       "    <tr>\n",
       "      <th>9998</th>\n",
       "      <td>2</td>\n",
       "      <td>2</td>\n",
       "      <td>6</td>\n",
       "      <td>4</td>\n",
       "      <td>1</td>\n",
       "    </tr>\n",
       "    <tr>\n",
       "      <th>9999</th>\n",
       "      <td>6</td>\n",
       "      <td>2</td>\n",
       "      <td>1</td>\n",
       "      <td>2</td>\n",
       "      <td>3</td>\n",
       "    </tr>\n",
       "  </tbody>\n",
       "</table>\n",
       "<p>10000 rows × 5 columns</p>\n",
       "</div>"
      ],
      "text/plain": [
       "          1  2  3  4  5\n",
       "roll_num               \n",
       "0         4  4  1  4  4\n",
       "1         3  5  1  4  1\n",
       "2         1  1  1  6  4\n",
       "3         1  4  2  5  3\n",
       "4         5  5  2  3  6\n",
       "...      .. .. .. .. ..\n",
       "9995      2  4  6  3  5\n",
       "9996      1  5  3  5  4\n",
       "9997      4  4  6  4  2\n",
       "9998      2  2  6  4  1\n",
       "9999      6  2  1  2  3\n",
       "\n",
       "[10000 rows x 5 columns]"
      ]
     },
     "execution_count": 19,
     "metadata": {},
     "output_type": "execute_result"
    }
   ],
   "source": [
    "output = games.show()\n",
    "output"
   ]
  },
  {
   "cell_type": "markdown",
   "id": "7b7f35ee-a953-40eb-9554-177f50f825b0",
   "metadata": {},
   "source": [
    "Computing the number of jackpots "
   ]
  },
  {
   "cell_type": "code",
   "execution_count": 20,
   "id": "bddc3523-56a4-42f6-b9ed-dff76d00063a",
   "metadata": {},
   "outputs": [],
   "source": [
    "analyze = Analyzer(output,die)"
   ]
  },
  {
   "cell_type": "code",
   "execution_count": 21,
   "id": "c5c7e986-7fe0-4cc7-879c-87abb995e4d7",
   "metadata": {},
   "outputs": [
    {
     "name": "stdout",
     "output_type": "stream",
     "text": [
      "9\n"
     ]
    },
    {
     "data": {
      "text/html": [
       "<div>\n",
       "<style scoped>\n",
       "    .dataframe tbody tr th:only-of-type {\n",
       "        vertical-align: middle;\n",
       "    }\n",
       "\n",
       "    .dataframe tbody tr th {\n",
       "        vertical-align: top;\n",
       "    }\n",
       "\n",
       "    .dataframe thead th {\n",
       "        text-align: right;\n",
       "    }\n",
       "</style>\n",
       "<table border=\"1\" class=\"dataframe\">\n",
       "  <thead>\n",
       "    <tr style=\"text-align: right;\">\n",
       "      <th></th>\n",
       "      <th>1</th>\n",
       "      <th>2</th>\n",
       "      <th>3</th>\n",
       "      <th>4</th>\n",
       "      <th>5</th>\n",
       "    </tr>\n",
       "  </thead>\n",
       "  <tbody>\n",
       "    <tr>\n",
       "      <th>2927</th>\n",
       "      <td>5</td>\n",
       "      <td>5</td>\n",
       "      <td>5</td>\n",
       "      <td>5</td>\n",
       "      <td>5</td>\n",
       "    </tr>\n",
       "    <tr>\n",
       "      <th>3324</th>\n",
       "      <td>6</td>\n",
       "      <td>6</td>\n",
       "      <td>6</td>\n",
       "      <td>6</td>\n",
       "      <td>6</td>\n",
       "    </tr>\n",
       "    <tr>\n",
       "      <th>5308</th>\n",
       "      <td>3</td>\n",
       "      <td>3</td>\n",
       "      <td>3</td>\n",
       "      <td>3</td>\n",
       "      <td>3</td>\n",
       "    </tr>\n",
       "    <tr>\n",
       "      <th>7134</th>\n",
       "      <td>3</td>\n",
       "      <td>3</td>\n",
       "      <td>3</td>\n",
       "      <td>3</td>\n",
       "      <td>3</td>\n",
       "    </tr>\n",
       "    <tr>\n",
       "      <th>7536</th>\n",
       "      <td>4</td>\n",
       "      <td>4</td>\n",
       "      <td>4</td>\n",
       "      <td>4</td>\n",
       "      <td>4</td>\n",
       "    </tr>\n",
       "    <tr>\n",
       "      <th>7687</th>\n",
       "      <td>2</td>\n",
       "      <td>2</td>\n",
       "      <td>2</td>\n",
       "      <td>2</td>\n",
       "      <td>2</td>\n",
       "    </tr>\n",
       "    <tr>\n",
       "      <th>8333</th>\n",
       "      <td>3</td>\n",
       "      <td>3</td>\n",
       "      <td>3</td>\n",
       "      <td>3</td>\n",
       "      <td>3</td>\n",
       "    </tr>\n",
       "    <tr>\n",
       "      <th>8511</th>\n",
       "      <td>2</td>\n",
       "      <td>2</td>\n",
       "      <td>2</td>\n",
       "      <td>2</td>\n",
       "      <td>2</td>\n",
       "    </tr>\n",
       "    <tr>\n",
       "      <th>9698</th>\n",
       "      <td>4</td>\n",
       "      <td>4</td>\n",
       "      <td>4</td>\n",
       "      <td>4</td>\n",
       "      <td>4</td>\n",
       "    </tr>\n",
       "  </tbody>\n",
       "</table>\n",
       "</div>"
      ],
      "text/plain": [
       "      1  2  3  4  5\n",
       "2927  5  5  5  5  5\n",
       "3324  6  6  6  6  6\n",
       "5308  3  3  3  3  3\n",
       "7134  3  3  3  3  3\n",
       "7536  4  4  4  4  4\n",
       "7687  2  2  2  2  2\n",
       "8333  3  3  3  3  3\n",
       "8511  2  2  2  2  2\n",
       "9698  4  4  4  4  4"
      ]
     },
     "execution_count": 21,
     "metadata": {},
     "output_type": "execute_result"
    }
   ],
   "source": [
    "analyze.jackpot()"
   ]
  },
  {
   "cell_type": "markdown",
   "id": "1b69baf3-53da-4715-9913-bcfd72711138",
   "metadata": {},
   "source": [
    "Computing the 10 most common combinations"
   ]
  },
  {
   "cell_type": "code",
   "execution_count": 22,
   "id": "358e0db1-468e-4d1d-838d-1fd2ffc55400",
   "metadata": {},
   "outputs": [
    {
     "data": {
      "text/html": [
       "<div>\n",
       "<style scoped>\n",
       "    .dataframe tbody tr th:only-of-type {\n",
       "        vertical-align: middle;\n",
       "    }\n",
       "\n",
       "    .dataframe tbody tr th {\n",
       "        vertical-align: top;\n",
       "    }\n",
       "\n",
       "    .dataframe thead th {\n",
       "        text-align: right;\n",
       "    }\n",
       "</style>\n",
       "<table border=\"1\" class=\"dataframe\">\n",
       "  <thead>\n",
       "    <tr style=\"text-align: right;\">\n",
       "      <th></th>\n",
       "      <th>0</th>\n",
       "      <th>1</th>\n",
       "      <th>2</th>\n",
       "      <th>3</th>\n",
       "      <th>4</th>\n",
       "      <th>size</th>\n",
       "    </tr>\n",
       "  </thead>\n",
       "  <tbody>\n",
       "    <tr>\n",
       "      <th>104</th>\n",
       "      <td>1</td>\n",
       "      <td>3</td>\n",
       "      <td>4</td>\n",
       "      <td>5</td>\n",
       "      <td>6</td>\n",
       "      <td>166</td>\n",
       "    </tr>\n",
       "    <tr>\n",
       "      <th>75</th>\n",
       "      <td>1</td>\n",
       "      <td>2</td>\n",
       "      <td>3</td>\n",
       "      <td>4</td>\n",
       "      <td>5</td>\n",
       "      <td>158</td>\n",
       "    </tr>\n",
       "    <tr>\n",
       "      <th>76</th>\n",
       "      <td>1</td>\n",
       "      <td>2</td>\n",
       "      <td>3</td>\n",
       "      <td>4</td>\n",
       "      <td>6</td>\n",
       "      <td>152</td>\n",
       "    </tr>\n",
       "    <tr>\n",
       "      <th>174</th>\n",
       "      <td>2</td>\n",
       "      <td>3</td>\n",
       "      <td>4</td>\n",
       "      <td>5</td>\n",
       "      <td>6</td>\n",
       "      <td>150</td>\n",
       "    </tr>\n",
       "    <tr>\n",
       "      <th>84</th>\n",
       "      <td>1</td>\n",
       "      <td>2</td>\n",
       "      <td>4</td>\n",
       "      <td>5</td>\n",
       "      <td>6</td>\n",
       "      <td>142</td>\n",
       "    </tr>\n",
       "    <tr>\n",
       "      <th>78</th>\n",
       "      <td>1</td>\n",
       "      <td>2</td>\n",
       "      <td>3</td>\n",
       "      <td>5</td>\n",
       "      <td>6</td>\n",
       "      <td>141</td>\n",
       "    </tr>\n",
       "    <tr>\n",
       "      <th>68</th>\n",
       "      <td>1</td>\n",
       "      <td>2</td>\n",
       "      <td>2</td>\n",
       "      <td>5</td>\n",
       "      <td>6</td>\n",
       "      <td>99</td>\n",
       "    </tr>\n",
       "    <tr>\n",
       "      <th>73</th>\n",
       "      <td>1</td>\n",
       "      <td>2</td>\n",
       "      <td>3</td>\n",
       "      <td>3</td>\n",
       "      <td>6</td>\n",
       "      <td>97</td>\n",
       "    </tr>\n",
       "    <tr>\n",
       "      <th>168</th>\n",
       "      <td>2</td>\n",
       "      <td>3</td>\n",
       "      <td>3</td>\n",
       "      <td>5</td>\n",
       "      <td>6</td>\n",
       "      <td>91</td>\n",
       "    </tr>\n",
       "    <tr>\n",
       "      <th>177</th>\n",
       "      <td>2</td>\n",
       "      <td>3</td>\n",
       "      <td>5</td>\n",
       "      <td>5</td>\n",
       "      <td>6</td>\n",
       "      <td>90</td>\n",
       "    </tr>\n",
       "  </tbody>\n",
       "</table>\n",
       "</div>"
      ],
      "text/plain": [
       "     0  1  2  3  4  size\n",
       "104  1  3  4  5  6   166\n",
       "75   1  2  3  4  5   158\n",
       "76   1  2  3  4  6   152\n",
       "174  2  3  4  5  6   150\n",
       "84   1  2  4  5  6   142\n",
       "78   1  2  3  5  6   141\n",
       "68   1  2  2  5  6    99\n",
       "73   1  2  3  3  6    97\n",
       "168  2  3  3  5  6    91\n",
       "177  2  3  5  5  6    90"
      ]
     },
     "execution_count": 22,
     "metadata": {},
     "output_type": "execute_result"
    }
   ],
   "source": [
    "combos = analyze.combo()\n",
    "fair_combos = combos.sort_values(by = \"size\",ascending=False).head(10)\n",
    "fair_combos"
   ]
  },
  {
   "cell_type": "markdown",
   "id": "6d8c8da8-98f0-4bd2-b222-ec132a587e16",
   "metadata": {},
   "source": [
    "Rerunning now with 2 fair die and 3 unfair die"
   ]
  },
  {
   "cell_type": "code",
   "execution_count": 23,
   "id": "f9ac631a-b449-4eb2-a7a6-a77b654d403e",
   "metadata": {},
   "outputs": [],
   "source": [
    "games = Game([[1,1,1,1,1,6],[1,1,1,1,1,6],[6,1,1,1,1,1],[1,1,1,1,1,1],[1,1,1,1,1,1]])"
   ]
  },
  {
   "cell_type": "markdown",
   "id": "d0389fc7-c2dc-45ad-8d8d-9da50af2e51e",
   "metadata": {},
   "source": [
    "10000 rolls"
   ]
  },
  {
   "cell_type": "code",
   "execution_count": 24,
   "id": "e24c4ffd-f568-409b-945e-e39d8072cc5f",
   "metadata": {},
   "outputs": [],
   "source": [
    "games.play(10000,die)"
   ]
  },
  {
   "cell_type": "markdown",
   "id": "eb3a72f8-145b-414f-b515-d7eb816a422a",
   "metadata": {},
   "source": [
    "Showing the results"
   ]
  },
  {
   "cell_type": "code",
   "execution_count": 25,
   "id": "b9851238-73d0-4733-a697-4328ed39f84c",
   "metadata": {},
   "outputs": [
    {
     "data": {
      "text/html": [
       "<div>\n",
       "<style scoped>\n",
       "    .dataframe tbody tr th:only-of-type {\n",
       "        vertical-align: middle;\n",
       "    }\n",
       "\n",
       "    .dataframe tbody tr th {\n",
       "        vertical-align: top;\n",
       "    }\n",
       "\n",
       "    .dataframe thead th {\n",
       "        text-align: right;\n",
       "    }\n",
       "</style>\n",
       "<table border=\"1\" class=\"dataframe\">\n",
       "  <thead>\n",
       "    <tr style=\"text-align: right;\">\n",
       "      <th></th>\n",
       "      <th>1</th>\n",
       "      <th>2</th>\n",
       "      <th>3</th>\n",
       "      <th>4</th>\n",
       "      <th>5</th>\n",
       "    </tr>\n",
       "    <tr>\n",
       "      <th>roll_num</th>\n",
       "      <th></th>\n",
       "      <th></th>\n",
       "      <th></th>\n",
       "      <th></th>\n",
       "      <th></th>\n",
       "    </tr>\n",
       "  </thead>\n",
       "  <tbody>\n",
       "    <tr>\n",
       "      <th>0</th>\n",
       "      <td>1</td>\n",
       "      <td>5</td>\n",
       "      <td>1</td>\n",
       "      <td>3</td>\n",
       "      <td>2</td>\n",
       "    </tr>\n",
       "    <tr>\n",
       "      <th>1</th>\n",
       "      <td>6</td>\n",
       "      <td>6</td>\n",
       "      <td>1</td>\n",
       "      <td>3</td>\n",
       "      <td>6</td>\n",
       "    </tr>\n",
       "    <tr>\n",
       "      <th>2</th>\n",
       "      <td>6</td>\n",
       "      <td>4</td>\n",
       "      <td>3</td>\n",
       "      <td>3</td>\n",
       "      <td>1</td>\n",
       "    </tr>\n",
       "    <tr>\n",
       "      <th>3</th>\n",
       "      <td>1</td>\n",
       "      <td>2</td>\n",
       "      <td>1</td>\n",
       "      <td>4</td>\n",
       "      <td>2</td>\n",
       "    </tr>\n",
       "    <tr>\n",
       "      <th>4</th>\n",
       "      <td>3</td>\n",
       "      <td>6</td>\n",
       "      <td>1</td>\n",
       "      <td>4</td>\n",
       "      <td>2</td>\n",
       "    </tr>\n",
       "    <tr>\n",
       "      <th>...</th>\n",
       "      <td>...</td>\n",
       "      <td>...</td>\n",
       "      <td>...</td>\n",
       "      <td>...</td>\n",
       "      <td>...</td>\n",
       "    </tr>\n",
       "    <tr>\n",
       "      <th>9995</th>\n",
       "      <td>3</td>\n",
       "      <td>6</td>\n",
       "      <td>4</td>\n",
       "      <td>1</td>\n",
       "      <td>5</td>\n",
       "    </tr>\n",
       "    <tr>\n",
       "      <th>9996</th>\n",
       "      <td>5</td>\n",
       "      <td>6</td>\n",
       "      <td>2</td>\n",
       "      <td>5</td>\n",
       "      <td>2</td>\n",
       "    </tr>\n",
       "    <tr>\n",
       "      <th>9997</th>\n",
       "      <td>6</td>\n",
       "      <td>6</td>\n",
       "      <td>1</td>\n",
       "      <td>2</td>\n",
       "      <td>4</td>\n",
       "    </tr>\n",
       "    <tr>\n",
       "      <th>9998</th>\n",
       "      <td>6</td>\n",
       "      <td>6</td>\n",
       "      <td>3</td>\n",
       "      <td>2</td>\n",
       "      <td>3</td>\n",
       "    </tr>\n",
       "    <tr>\n",
       "      <th>9999</th>\n",
       "      <td>6</td>\n",
       "      <td>6</td>\n",
       "      <td>4</td>\n",
       "      <td>2</td>\n",
       "      <td>5</td>\n",
       "    </tr>\n",
       "  </tbody>\n",
       "</table>\n",
       "<p>10000 rows × 5 columns</p>\n",
       "</div>"
      ],
      "text/plain": [
       "          1  2  3  4  5\n",
       "roll_num               \n",
       "0         1  5  1  3  2\n",
       "1         6  6  1  3  6\n",
       "2         6  4  3  3  1\n",
       "3         1  2  1  4  2\n",
       "4         3  6  1  4  2\n",
       "...      .. .. .. .. ..\n",
       "9995      3  6  4  1  5\n",
       "9996      5  6  2  5  2\n",
       "9997      6  6  1  2  4\n",
       "9998      6  6  3  2  3\n",
       "9999      6  6  4  2  5\n",
       "\n",
       "[10000 rows x 5 columns]"
      ]
     },
     "execution_count": 25,
     "metadata": {},
     "output_type": "execute_result"
    }
   ],
   "source": [
    "output = games.show()\n",
    "output"
   ]
  },
  {
   "cell_type": "markdown",
   "id": "c63da6c9-3f15-45b9-973b-4300da310fea",
   "metadata": {},
   "source": [
    "Run the jackpot method to count the number of jackpots"
   ]
  },
  {
   "cell_type": "code",
   "execution_count": 26,
   "id": "8a921c3b-904d-4aac-a449-547c61548b43",
   "metadata": {},
   "outputs": [],
   "source": [
    "analyze = Analyzer(output,die)"
   ]
  },
  {
   "cell_type": "code",
   "execution_count": 27,
   "id": "39826ec9-8de7-445e-b0d4-6609808c1aa2",
   "metadata": {},
   "outputs": [
    {
     "name": "stdout",
     "output_type": "stream",
     "text": [
      "8\n"
     ]
    },
    {
     "data": {
      "text/html": [
       "<div>\n",
       "<style scoped>\n",
       "    .dataframe tbody tr th:only-of-type {\n",
       "        vertical-align: middle;\n",
       "    }\n",
       "\n",
       "    .dataframe tbody tr th {\n",
       "        vertical-align: top;\n",
       "    }\n",
       "\n",
       "    .dataframe thead th {\n",
       "        text-align: right;\n",
       "    }\n",
       "</style>\n",
       "<table border=\"1\" class=\"dataframe\">\n",
       "  <thead>\n",
       "    <tr style=\"text-align: right;\">\n",
       "      <th></th>\n",
       "      <th>1</th>\n",
       "      <th>2</th>\n",
       "      <th>3</th>\n",
       "      <th>4</th>\n",
       "      <th>5</th>\n",
       "    </tr>\n",
       "  </thead>\n",
       "  <tbody>\n",
       "    <tr>\n",
       "      <th>295</th>\n",
       "      <td>6</td>\n",
       "      <td>6</td>\n",
       "      <td>6</td>\n",
       "      <td>6</td>\n",
       "      <td>6</td>\n",
       "    </tr>\n",
       "    <tr>\n",
       "      <th>511</th>\n",
       "      <td>6</td>\n",
       "      <td>6</td>\n",
       "      <td>6</td>\n",
       "      <td>6</td>\n",
       "      <td>6</td>\n",
       "    </tr>\n",
       "    <tr>\n",
       "      <th>5446</th>\n",
       "      <td>6</td>\n",
       "      <td>6</td>\n",
       "      <td>6</td>\n",
       "      <td>6</td>\n",
       "      <td>6</td>\n",
       "    </tr>\n",
       "    <tr>\n",
       "      <th>5966</th>\n",
       "      <td>6</td>\n",
       "      <td>6</td>\n",
       "      <td>6</td>\n",
       "      <td>6</td>\n",
       "      <td>6</td>\n",
       "    </tr>\n",
       "    <tr>\n",
       "      <th>6340</th>\n",
       "      <td>6</td>\n",
       "      <td>6</td>\n",
       "      <td>6</td>\n",
       "      <td>6</td>\n",
       "      <td>6</td>\n",
       "    </tr>\n",
       "    <tr>\n",
       "      <th>8446</th>\n",
       "      <td>6</td>\n",
       "      <td>6</td>\n",
       "      <td>6</td>\n",
       "      <td>6</td>\n",
       "      <td>6</td>\n",
       "    </tr>\n",
       "    <tr>\n",
       "      <th>8998</th>\n",
       "      <td>6</td>\n",
       "      <td>6</td>\n",
       "      <td>6</td>\n",
       "      <td>6</td>\n",
       "      <td>6</td>\n",
       "    </tr>\n",
       "    <tr>\n",
       "      <th>9710</th>\n",
       "      <td>6</td>\n",
       "      <td>6</td>\n",
       "      <td>6</td>\n",
       "      <td>6</td>\n",
       "      <td>6</td>\n",
       "    </tr>\n",
       "  </tbody>\n",
       "</table>\n",
       "</div>"
      ],
      "text/plain": [
       "      1  2  3  4  5\n",
       "295   6  6  6  6  6\n",
       "511   6  6  6  6  6\n",
       "5446  6  6  6  6  6\n",
       "5966  6  6  6  6  6\n",
       "6340  6  6  6  6  6\n",
       "8446  6  6  6  6  6\n",
       "8998  6  6  6  6  6\n",
       "9710  6  6  6  6  6"
      ]
     },
     "execution_count": 27,
     "metadata": {},
     "output_type": "execute_result"
    }
   ],
   "source": [
    "analyze.jackpot()"
   ]
  },
  {
   "cell_type": "markdown",
   "id": "fe768b35-ca01-4259-b395-5949739a491e",
   "metadata": {},
   "source": [
    "Counting the top 10 roll combinations"
   ]
  },
  {
   "cell_type": "code",
   "execution_count": 28,
   "id": "067e74b9-1865-4599-b22e-aa7e9cafcfdb",
   "metadata": {},
   "outputs": [
    {
     "data": {
      "text/html": [
       "<div>\n",
       "<style scoped>\n",
       "    .dataframe tbody tr th:only-of-type {\n",
       "        vertical-align: middle;\n",
       "    }\n",
       "\n",
       "    .dataframe tbody tr th {\n",
       "        vertical-align: top;\n",
       "    }\n",
       "\n",
       "    .dataframe thead th {\n",
       "        text-align: right;\n",
       "    }\n",
       "</style>\n",
       "<table border=\"1\" class=\"dataframe\">\n",
       "  <thead>\n",
       "    <tr style=\"text-align: right;\">\n",
       "      <th></th>\n",
       "      <th>0</th>\n",
       "      <th>1</th>\n",
       "      <th>2</th>\n",
       "      <th>3</th>\n",
       "      <th>4</th>\n",
       "      <th>size</th>\n",
       "    </tr>\n",
       "  </thead>\n",
       "  <tbody>\n",
       "    <tr>\n",
       "      <th>107</th>\n",
       "      <td>1</td>\n",
       "      <td>3</td>\n",
       "      <td>5</td>\n",
       "      <td>6</td>\n",
       "      <td>6</td>\n",
       "      <td>239</td>\n",
       "    </tr>\n",
       "    <tr>\n",
       "      <th>88</th>\n",
       "      <td>1</td>\n",
       "      <td>2</td>\n",
       "      <td>5</td>\n",
       "      <td>6</td>\n",
       "      <td>6</td>\n",
       "      <td>232</td>\n",
       "    </tr>\n",
       "    <tr>\n",
       "      <th>79</th>\n",
       "      <td>1</td>\n",
       "      <td>2</td>\n",
       "      <td>3</td>\n",
       "      <td>6</td>\n",
       "      <td>6</td>\n",
       "      <td>230</td>\n",
       "    </tr>\n",
       "    <tr>\n",
       "      <th>104</th>\n",
       "      <td>1</td>\n",
       "      <td>3</td>\n",
       "      <td>4</td>\n",
       "      <td>6</td>\n",
       "      <td>6</td>\n",
       "      <td>226</td>\n",
       "    </tr>\n",
       "    <tr>\n",
       "      <th>85</th>\n",
       "      <td>1</td>\n",
       "      <td>2</td>\n",
       "      <td>4</td>\n",
       "      <td>6</td>\n",
       "      <td>6</td>\n",
       "      <td>211</td>\n",
       "    </tr>\n",
       "    <tr>\n",
       "      <th>117</th>\n",
       "      <td>1</td>\n",
       "      <td>4</td>\n",
       "      <td>5</td>\n",
       "      <td>6</td>\n",
       "      <td>6</td>\n",
       "      <td>208</td>\n",
       "    </tr>\n",
       "    <tr>\n",
       "      <th>50</th>\n",
       "      <td>1</td>\n",
       "      <td>1</td>\n",
       "      <td>4</td>\n",
       "      <td>6</td>\n",
       "      <td>6</td>\n",
       "      <td>175</td>\n",
       "    </tr>\n",
       "    <tr>\n",
       "      <th>78</th>\n",
       "      <td>1</td>\n",
       "      <td>2</td>\n",
       "      <td>3</td>\n",
       "      <td>5</td>\n",
       "      <td>6</td>\n",
       "      <td>173</td>\n",
       "    </tr>\n",
       "    <tr>\n",
       "      <th>44</th>\n",
       "      <td>1</td>\n",
       "      <td>1</td>\n",
       "      <td>3</td>\n",
       "      <td>6</td>\n",
       "      <td>6</td>\n",
       "      <td>171</td>\n",
       "    </tr>\n",
       "    <tr>\n",
       "      <th>84</th>\n",
       "      <td>1</td>\n",
       "      <td>2</td>\n",
       "      <td>4</td>\n",
       "      <td>5</td>\n",
       "      <td>6</td>\n",
       "      <td>170</td>\n",
       "    </tr>\n",
       "  </tbody>\n",
       "</table>\n",
       "</div>"
      ],
      "text/plain": [
       "     0  1  2  3  4  size\n",
       "107  1  3  5  6  6   239\n",
       "88   1  2  5  6  6   232\n",
       "79   1  2  3  6  6   230\n",
       "104  1  3  4  6  6   226\n",
       "85   1  2  4  6  6   211\n",
       "117  1  4  5  6  6   208\n",
       "50   1  1  4  6  6   175\n",
       "78   1  2  3  5  6   173\n",
       "44   1  1  3  6  6   171\n",
       "84   1  2  4  5  6   170"
      ]
     },
     "execution_count": 28,
     "metadata": {},
     "output_type": "execute_result"
    }
   ],
   "source": [
    "uf_combos = analyze.combo()\n",
    "unfair_combos = uf_combos.sort_values(by = \"size\",ascending=False).head(10)\n",
    "unfair_combos"
   ]
  },
  {
   "cell_type": "markdown",
   "id": "a46776fe-060a-4eb3-8053-dd2a2ea4b943",
   "metadata": {},
   "source": [
    "Graphing the results of the jackpots"
   ]
  },
  {
   "cell_type": "code",
   "execution_count": 29,
   "id": "472855a1-f0df-4715-b77c-e2770d70fcc0",
   "metadata": {},
   "outputs": [
    {
     "data": {
      "text/html": [
       "<div>\n",
       "<style scoped>\n",
       "    .dataframe tbody tr th:only-of-type {\n",
       "        vertical-align: middle;\n",
       "    }\n",
       "\n",
       "    .dataframe tbody tr th {\n",
       "        vertical-align: top;\n",
       "    }\n",
       "\n",
       "    .dataframe thead th {\n",
       "        text-align: right;\n",
       "    }\n",
       "</style>\n",
       "<table border=\"1\" class=\"dataframe\">\n",
       "  <thead>\n",
       "    <tr style=\"text-align: right;\">\n",
       "      <th></th>\n",
       "      <th>Dice</th>\n",
       "      <th>Result</th>\n",
       "    </tr>\n",
       "  </thead>\n",
       "  <tbody>\n",
       "    <tr>\n",
       "      <th>0</th>\n",
       "      <td>All Fair</td>\n",
       "      <td>0.0008</td>\n",
       "    </tr>\n",
       "    <tr>\n",
       "      <th>1</th>\n",
       "      <td>3 Unfair</td>\n",
       "      <td>0.0008</td>\n",
       "    </tr>\n",
       "  </tbody>\n",
       "</table>\n",
       "</div>"
      ],
      "text/plain": [
       "        Dice  Result\n",
       "0   All Fair  0.0008\n",
       "1   3 Unfair  0.0008"
      ]
     },
     "execution_count": 29,
     "metadata": {},
     "output_type": "execute_result"
    }
   ],
   "source": [
    "first = 8/10000\n",
    "second = 8/10000\n",
    "df = pd.DataFrame({\"Dice\":[\"All Fair\",\" 3 Unfair\"],\"Result\":[first,second]})\n",
    "df"
   ]
  },
  {
   "cell_type": "code",
   "execution_count": 30,
   "id": "c0916c0c-8eae-4f41-a073-af108ce40e12",
   "metadata": {},
   "outputs": [
    {
     "data": {
      "image/png": "[encoded data removed]",
      "text/plain": [
       "<Figure size 432x288 with 1 Axes>"
      ]
     },
     "metadata": {
      "needs_background": "light"
     },
     "output_type": "display_data"
    }
   ],
   "source": [
    "Fairness = [\"All Fair\",\"3 Unfair\"]\n",
    "result = [first,second]\n",
    "plt.bar(Fairness,result);\n",
    "plt.title(\"Percentages of Jackpots Rolled\");\n",
    "plt.ylabel(\"Percenatge\");"
   ]
  },
  {
   "cell_type": "markdown",
   "id": "c8a72cd5-649a-4ad9-86dc-0fa762f899d8",
   "metadata": {},
   "source": [
    "Graphing the top 10 combinations for fair and unfair die"
   ]
  },
  {
   "cell_type": "code",
   "execution_count": 31,
   "id": "d4d4304b-66d4-4554-a02e-584d0cd64bfb",
   "metadata": {},
   "outputs": [
    {
     "data": {
      "image/png": "[encoded data removed]",
      "text/plain": [
       "<Figure size 432x288 with 1 Axes>"
      ]
     },
     "metadata": {
      "needs_background": "light"
     },
     "output_type": "display_data"
    }
   ],
   "source": [
    "list_combos = [fair_combos.values[row][0:5] for row in range(0,len(fair_combos))]\n",
    "list_combos = [''.join(str(x)) for x in list_combos]\n",
    "counts = [fair_combos.values[row][5] for row in range(0,len(fair_combos))]\n",
    "plt.bar(list_combos,counts);\n",
    "plt.xticks(rotation=45);\n",
    "plt.title(\"10 Most Common Combos Fair Die\");\n",
    "plt.xlabel(\"Face Combinations\");\n",
    "plt.ylabel(\"Counts\");"
   ]
  },
  {
   "cell_type": "code",
   "execution_count": 32,
   "id": "dba53380-94ba-4dc0-b598-1044dc44d51f",
   "metadata": {},
   "outputs": [
    {
     "data": {
      "image/png": "[encoded data removed]",
      "text/plain": [
       "<Figure size 432x288 with 1 Axes>"
      ]
     },
     "metadata": {
      "needs_background": "light"
     },
     "output_type": "display_data"
    }
   ],
   "source": [
    "list_combos = [unfair_combos.values[row][0:5] for row in range(0,len(unfair_combos))]\n",
    "list_combos = [''.join(str(x)) for x in list_combos]\n",
    "counts = [unfair_combos.values[row][5] for row in range(0,len(unfair_combos))]\n",
    "plt.bar(list_combos,counts);\n",
    "plt.xticks(rotation=45);\n",
    "plt.title(\"10 Most Common Combos 3 Unfair Die\");\n",
    "plt.xlabel(\"Face Combinations\");\n",
    "plt.ylabel(\"Counts\");"
   ]
  },
  {
   "cell_type": "markdown",
   "id": "d2af5ed8-7cc8-419e-a1ed-c54e230badf0",
   "metadata": {},
   "source": [
    "# Scenario 3: Letters of the Roman Alphabet"
   ]
  },
  {
   "cell_type": "markdown",
   "id": "3a41d9c3-af43-483d-95b0-e67676966610",
   "metadata": {},
   "source": [
    "Initalize the die with the letters of the alphabet as faces"
   ]
  },
  {
   "cell_type": "code",
   "execution_count": 33,
   "id": "77d9e9b5-c113-41eb-8425-ff9a3e9d540c",
   "metadata": {},
   "outputs": [],
   "source": [
    "letters = ['a', 'b', 'c', 'd', 'e', 'f', 'g', 'h', 'i', 'j', 'k', 'l', \n",
    "           'm', 'n', 'o', 'p', 'q', 'r', 's', 't', 'u', 'v', 'w', 'x', 'y', 'z']"
   ]
  },
  {
   "cell_type": "code",
   "execution_count": 34,
   "id": "6dd1ee43-78e3-41eb-8876-c7b4066bbc16",
   "metadata": {},
   "outputs": [],
   "source": [
    "die = Die(letters)"
   ]
  },
  {
   "cell_type": "markdown",
   "id": "fb66269f-fdc9-42ca-ba32-5501a46d18c0",
   "metadata": {},
   "source": [
    "Letter frequencies"
   ]
  },
  {
   "cell_type": "code",
   "execution_count": 35,
   "id": "750f5932-a070-4b37-a3af-a9fe2e028484",
   "metadata": {},
   "outputs": [],
   "source": [
    "freq = [8.4966,2.0720,4.5388,3.3844,11.1607,1.8121,2.4705,\n",
    "        3.0034,7.5448,.1965,1.1016,5.4893,3.0129,6.6544,7.1635,\n",
    "        3.1671,.1962,7.5809,5.7351,6.9509,3.6308,1.0074,1.2899,\n",
    "        0.2902,1.7779,.2722]"
   ]
  },
  {
   "cell_type": "markdown",
   "id": "fc842230-f544-45c9-89e0-bc26fd11cc8e",
   "metadata": {},
   "source": [
    "Initializing 5 die all equal weights"
   ]
  },
  {
   "cell_type": "code",
   "execution_count": 36,
   "id": "63824f90-b497-4256-9b1f-0330fa5304bc",
   "metadata": {},
   "outputs": [],
   "source": [
    "games = Game([freq,freq,freq,freq,freq])"
   ]
  },
  {
   "cell_type": "markdown",
   "id": "94dd8fae-4487-4116-920e-4f34e5d073ed",
   "metadata": {},
   "source": [
    "Rolling the 5 die 1000 times"
   ]
  },
  {
   "cell_type": "code",
   "execution_count": 37,
   "id": "5d797d82-1da9-4849-9035-fd7fe43e5b0e",
   "metadata": {},
   "outputs": [],
   "source": [
    "games.play(1000,die)"
   ]
  },
  {
   "cell_type": "markdown",
   "id": "eb031a2a-35dd-49f2-936d-385e815e690f",
   "metadata": {},
   "source": [
    "Showing the weights for each letter"
   ]
  },
  {
   "cell_type": "code",
   "execution_count": 38,
   "id": "1bd30442-06e0-4241-b951-ca647ac5e6e0",
   "metadata": {},
   "outputs": [
    {
     "data": {
      "text/html": [
       "<div>\n",
       "<style scoped>\n",
       "    .dataframe tbody tr th:only-of-type {\n",
       "        vertical-align: middle;\n",
       "    }\n",
       "\n",
       "    .dataframe tbody tr th {\n",
       "        vertical-align: top;\n",
       "    }\n",
       "\n",
       "    .dataframe thead th {\n",
       "        text-align: right;\n",
       "    }\n",
       "</style>\n",
       "<table border=\"1\" class=\"dataframe\">\n",
       "  <thead>\n",
       "    <tr style=\"text-align: right;\">\n",
       "      <th></th>\n",
       "      <th>side</th>\n",
       "      <th>weights</th>\n",
       "    </tr>\n",
       "  </thead>\n",
       "  <tbody>\n",
       "    <tr>\n",
       "      <th>0</th>\n",
       "      <td>a</td>\n",
       "      <td>8.4966</td>\n",
       "    </tr>\n",
       "    <tr>\n",
       "      <th>1</th>\n",
       "      <td>b</td>\n",
       "      <td>2.0720</td>\n",
       "    </tr>\n",
       "    <tr>\n",
       "      <th>2</th>\n",
       "      <td>c</td>\n",
       "      <td>4.5388</td>\n",
       "    </tr>\n",
       "    <tr>\n",
       "      <th>3</th>\n",
       "      <td>d</td>\n",
       "      <td>3.3844</td>\n",
       "    </tr>\n",
       "    <tr>\n",
       "      <th>4</th>\n",
       "      <td>e</td>\n",
       "      <td>11.1607</td>\n",
       "    </tr>\n",
       "    <tr>\n",
       "      <th>5</th>\n",
       "      <td>f</td>\n",
       "      <td>1.8121</td>\n",
       "    </tr>\n",
       "    <tr>\n",
       "      <th>6</th>\n",
       "      <td>g</td>\n",
       "      <td>2.4705</td>\n",
       "    </tr>\n",
       "    <tr>\n",
       "      <th>7</th>\n",
       "      <td>h</td>\n",
       "      <td>3.0034</td>\n",
       "    </tr>\n",
       "    <tr>\n",
       "      <th>8</th>\n",
       "      <td>i</td>\n",
       "      <td>7.5448</td>\n",
       "    </tr>\n",
       "    <tr>\n",
       "      <th>9</th>\n",
       "      <td>j</td>\n",
       "      <td>0.1965</td>\n",
       "    </tr>\n",
       "    <tr>\n",
       "      <th>10</th>\n",
       "      <td>k</td>\n",
       "      <td>1.1016</td>\n",
       "    </tr>\n",
       "    <tr>\n",
       "      <th>11</th>\n",
       "      <td>l</td>\n",
       "      <td>5.4893</td>\n",
       "    </tr>\n",
       "    <tr>\n",
       "      <th>12</th>\n",
       "      <td>m</td>\n",
       "      <td>3.0129</td>\n",
       "    </tr>\n",
       "    <tr>\n",
       "      <th>13</th>\n",
       "      <td>n</td>\n",
       "      <td>6.6544</td>\n",
       "    </tr>\n",
       "    <tr>\n",
       "      <th>14</th>\n",
       "      <td>o</td>\n",
       "      <td>7.1635</td>\n",
       "    </tr>\n",
       "    <tr>\n",
       "      <th>15</th>\n",
       "      <td>p</td>\n",
       "      <td>3.1671</td>\n",
       "    </tr>\n",
       "    <tr>\n",
       "      <th>16</th>\n",
       "      <td>q</td>\n",
       "      <td>0.1962</td>\n",
       "    </tr>\n",
       "    <tr>\n",
       "      <th>17</th>\n",
       "      <td>r</td>\n",
       "      <td>7.5809</td>\n",
       "    </tr>\n",
       "    <tr>\n",
       "      <th>18</th>\n",
       "      <td>s</td>\n",
       "      <td>5.7351</td>\n",
       "    </tr>\n",
       "    <tr>\n",
       "      <th>19</th>\n",
       "      <td>t</td>\n",
       "      <td>6.9509</td>\n",
       "    </tr>\n",
       "    <tr>\n",
       "      <th>20</th>\n",
       "      <td>u</td>\n",
       "      <td>3.6308</td>\n",
       "    </tr>\n",
       "    <tr>\n",
       "      <th>21</th>\n",
       "      <td>v</td>\n",
       "      <td>1.0074</td>\n",
       "    </tr>\n",
       "    <tr>\n",
       "      <th>22</th>\n",
       "      <td>w</td>\n",
       "      <td>1.2899</td>\n",
       "    </tr>\n",
       "    <tr>\n",
       "      <th>23</th>\n",
       "      <td>x</td>\n",
       "      <td>0.2902</td>\n",
       "    </tr>\n",
       "    <tr>\n",
       "      <th>24</th>\n",
       "      <td>y</td>\n",
       "      <td>1.7779</td>\n",
       "    </tr>\n",
       "    <tr>\n",
       "      <th>25</th>\n",
       "      <td>z</td>\n",
       "      <td>0.2722</td>\n",
       "    </tr>\n",
       "  </tbody>\n",
       "</table>\n",
       "</div>"
      ],
      "text/plain": [
       "   side  weights\n",
       "0     a   8.4966\n",
       "1     b   2.0720\n",
       "2     c   4.5388\n",
       "3     d   3.3844\n",
       "4     e  11.1607\n",
       "5     f   1.8121\n",
       "6     g   2.4705\n",
       "7     h   3.0034\n",
       "8     i   7.5448\n",
       "9     j   0.1965\n",
       "10    k   1.1016\n",
       "11    l   5.4893\n",
       "12    m   3.0129\n",
       "13    n   6.6544\n",
       "14    o   7.1635\n",
       "15    p   3.1671\n",
       "16    q   0.1962\n",
       "17    r   7.5809\n",
       "18    s   5.7351\n",
       "19    t   6.9509\n",
       "20    u   3.6308\n",
       "21    v   1.0074\n",
       "22    w   1.2899\n",
       "23    x   0.2902\n",
       "24    y   1.7779\n",
       "25    z   0.2722"
      ]
     },
     "execution_count": 38,
     "metadata": {},
     "output_type": "execute_result"
    }
   ],
   "source": [
    "die.show_results()"
   ]
  },
  {
   "cell_type": "markdown",
   "id": "7e12a57d-3432-4759-90ca-a0874d13f39a",
   "metadata": {},
   "source": [
    "Showing the results of the 1000 rolls"
   ]
  },
  {
   "cell_type": "code",
   "execution_count": 39,
   "id": "1e4dd607-6608-4025-8c21-b1e4a950ceb9",
   "metadata": {},
   "outputs": [
    {
     "data": {
      "text/html": [
       "<div>\n",
       "<style scoped>\n",
       "    .dataframe tbody tr th:only-of-type {\n",
       "        vertical-align: middle;\n",
       "    }\n",
       "\n",
       "    .dataframe tbody tr th {\n",
       "        vertical-align: top;\n",
       "    }\n",
       "\n",
       "    .dataframe thead th {\n",
       "        text-align: right;\n",
       "    }\n",
       "</style>\n",
       "<table border=\"1\" class=\"dataframe\">\n",
       "  <thead>\n",
       "    <tr style=\"text-align: right;\">\n",
       "      <th></th>\n",
       "      <th>1</th>\n",
       "      <th>2</th>\n",
       "      <th>3</th>\n",
       "      <th>4</th>\n",
       "      <th>5</th>\n",
       "    </tr>\n",
       "    <tr>\n",
       "      <th>roll_num</th>\n",
       "      <th></th>\n",
       "      <th></th>\n",
       "      <th></th>\n",
       "      <th></th>\n",
       "      <th></th>\n",
       "    </tr>\n",
       "  </thead>\n",
       "  <tbody>\n",
       "    <tr>\n",
       "      <th>0</th>\n",
       "      <td>g</td>\n",
       "      <td>r</td>\n",
       "      <td>s</td>\n",
       "      <td>d</td>\n",
       "      <td>y</td>\n",
       "    </tr>\n",
       "    <tr>\n",
       "      <th>1</th>\n",
       "      <td>w</td>\n",
       "      <td>t</td>\n",
       "      <td>e</td>\n",
       "      <td>n</td>\n",
       "      <td>i</td>\n",
       "    </tr>\n",
       "    <tr>\n",
       "      <th>2</th>\n",
       "      <td>h</td>\n",
       "      <td>e</td>\n",
       "      <td>p</td>\n",
       "      <td>g</td>\n",
       "      <td>d</td>\n",
       "    </tr>\n",
       "    <tr>\n",
       "      <th>3</th>\n",
       "      <td>n</td>\n",
       "      <td>b</td>\n",
       "      <td>i</td>\n",
       "      <td>e</td>\n",
       "      <td>s</td>\n",
       "    </tr>\n",
       "    <tr>\n",
       "      <th>4</th>\n",
       "      <td>a</td>\n",
       "      <td>n</td>\n",
       "      <td>m</td>\n",
       "      <td>o</td>\n",
       "      <td>r</td>\n",
       "    </tr>\n",
       "    <tr>\n",
       "      <th>...</th>\n",
       "      <td>...</td>\n",
       "      <td>...</td>\n",
       "      <td>...</td>\n",
       "      <td>...</td>\n",
       "      <td>...</td>\n",
       "    </tr>\n",
       "    <tr>\n",
       "      <th>995</th>\n",
       "      <td>o</td>\n",
       "      <td>l</td>\n",
       "      <td>c</td>\n",
       "      <td>u</td>\n",
       "      <td>e</td>\n",
       "    </tr>\n",
       "    <tr>\n",
       "      <th>996</th>\n",
       "      <td>u</td>\n",
       "      <td>i</td>\n",
       "      <td>r</td>\n",
       "      <td>e</td>\n",
       "      <td>a</td>\n",
       "    </tr>\n",
       "    <tr>\n",
       "      <th>997</th>\n",
       "      <td>f</td>\n",
       "      <td>a</td>\n",
       "      <td>i</td>\n",
       "      <td>g</td>\n",
       "      <td>u</td>\n",
       "    </tr>\n",
       "    <tr>\n",
       "      <th>998</th>\n",
       "      <td>g</td>\n",
       "      <td>a</td>\n",
       "      <td>e</td>\n",
       "      <td>c</td>\n",
       "      <td>r</td>\n",
       "    </tr>\n",
       "    <tr>\n",
       "      <th>999</th>\n",
       "      <td>r</td>\n",
       "      <td>c</td>\n",
       "      <td>n</td>\n",
       "      <td>e</td>\n",
       "      <td>w</td>\n",
       "    </tr>\n",
       "  </tbody>\n",
       "</table>\n",
       "<p>1000 rows × 5 columns</p>\n",
       "</div>"
      ],
      "text/plain": [
       "          1  2  3  4  5\n",
       "roll_num               \n",
       "0         g  r  s  d  y\n",
       "1         w  t  e  n  i\n",
       "2         h  e  p  g  d\n",
       "3         n  b  i  e  s\n",
       "4         a  n  m  o  r\n",
       "...      .. .. .. .. ..\n",
       "995       o  l  c  u  e\n",
       "996       u  i  r  e  a\n",
       "997       f  a  i  g  u\n",
       "998       g  a  e  c  r\n",
       "999       r  c  n  e  w\n",
       "\n",
       "[1000 rows x 5 columns]"
      ]
     },
     "execution_count": 39,
     "metadata": {},
     "output_type": "execute_result"
    }
   ],
   "source": [
    "output = games.show()\n",
    "output"
   ]
  },
  {
   "cell_type": "markdown",
   "id": "0bd873a7-bbbb-4d4c-add7-6adc31f47288",
   "metadata": {},
   "source": [
    "Using a list of possible wordle answers to see how many valid words came from my rolls"
   ]
  },
  {
   "cell_type": "markdown",
   "id": "64ae7b14-b224-4452-ab90-7b845842fda7",
   "metadata": {},
   "source": [
    "wordle = pd.read_csv(\"valid_guesses.csv\")\n",
    "wordle"
   ]
  },
  {
   "cell_type": "markdown",
   "id": "3feed6f8-e07b-40fa-8611-7556cc4bfc9b",
   "metadata": {},
   "source": [
    "Checking to see how many valid wordle guesses were in my random output"
   ]
  },
  {
   "cell_type": "code",
   "execution_count": 45,
   "id": "cedbf8a4-f63a-4fe0-8a5b-72ea0983e9b0",
   "metadata": {},
   "outputs": [
    {
     "data": {
      "text/plain": [
       "['biter', 'tawts', 'sasse', 'slipe']"
      ]
     },
     "execution_count": 45,
     "metadata": {},
     "output_type": "execute_result"
    }
   ],
   "source": [
    "word_combos = [output.values[row][0:5] for row in range(0,len(output))]\n",
    "word_combos = [''.join(x) for x in word_combos]\n",
    "valid_words = []\n",
    "for word in word_combos:\n",
    "    if wordle['word'].str.contains(word).any():\n",
    "        valid_words.append(word)\n",
    "valid_words"
   ]
  },
  {
   "cell_type": "markdown",
   "id": "f4c18ecb-0f50-4629-9b47-0b0eb2afe371",
   "metadata": {},
   "source": [
    "4 out of 1000 were valid guesses"
   ]
  },
  {
   "cell_type": "markdown",
   "id": "b3241a44-53e5-461e-8eb3-c15169bac982",
   "metadata": {},
   "source": [
    "Running the jackpot method out of curiosity"
   ]
  },
  {
   "cell_type": "code",
   "execution_count": 49,
   "id": "e262e580-30fe-44f6-9a12-408929b0c4df",
   "metadata": {},
   "outputs": [],
   "source": [
    "analyze = Analyzer(output,die)"
   ]
  },
  {
   "cell_type": "code",
   "execution_count": 50,
   "id": "b5f1e0f4-fe21-42c7-aed6-724bd6435118",
   "metadata": {},
   "outputs": [
    {
     "name": "stdout",
     "output_type": "stream",
     "text": [
      "0\n"
     ]
    },
    {
     "data": {
      "text/html": [
       "<div>\n",
       "<style scoped>\n",
       "    .dataframe tbody tr th:only-of-type {\n",
       "        vertical-align: middle;\n",
       "    }\n",
       "\n",
       "    .dataframe tbody tr th {\n",
       "        vertical-align: top;\n",
       "    }\n",
       "\n",
       "    .dataframe thead th {\n",
       "        text-align: right;\n",
       "    }\n",
       "</style>\n",
       "<table border=\"1\" class=\"dataframe\">\n",
       "  <thead>\n",
       "    <tr style=\"text-align: right;\">\n",
       "      <th></th>\n",
       "    </tr>\n",
       "  </thead>\n",
       "  <tbody>\n",
       "  </tbody>\n",
       "</table>\n",
       "</div>"
      ],
      "text/plain": [
       "Empty DataFrame\n",
       "Columns: []\n",
       "Index: []"
      ]
     },
     "execution_count": 50,
     "metadata": {},
     "output_type": "execute_result"
    }
   ],
   "source": [
    "analyze.jackpot()"
   ]
  },
  {
   "cell_type": "markdown",
   "id": "bfe8991a-0e60-4f1e-be4c-f0bfc95e1579",
   "metadata": {},
   "source": [
    "No jackpots"
   ]
  }
 ],
 "metadata": {
  "kernelspec": {
   "display_name": "Python 3 (ipykernel)",
   "language": "python",
   "name": "python3"
  },
  "language_info": {
   "codemirror_mode": {
    "name": "ipython",
    "version": 3
   },
   "file_extension": ".py",
   "mimetype": "text/x-python",
   "name": "python",
   "nbconvert_exporter": "python",
   "pygments_lexer": "ipython3",
   "version": "3.9.12"
  }
 },
 "nbformat": 4,
 "nbformat_minor": 5
}
